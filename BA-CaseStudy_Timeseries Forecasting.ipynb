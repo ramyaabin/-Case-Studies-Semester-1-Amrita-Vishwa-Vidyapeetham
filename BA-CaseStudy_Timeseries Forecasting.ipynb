{
 "cells": [
  {
   "cell_type": "markdown",
   "id": "90325e46",
   "metadata": {},
   "source": [
    "# Car Sales Dataset\n",
    "\n",
    "![CHD](car.jpg)\n",
    "\n",
    "## Summary\n",
    "\n",
    "This dataset contains the number of vehicle sales realized in a certain period. The number of sales was kept for every month.\n",
    "\n",
    "The number of rows and columns in the dataset is (36, 2).\n",
    "\n",
    "## Time Series Analysis \n",
    "\n",
    "Time series analysis is a specific way of analyzing a sequence of data points collected over an interval of time. In time series analysis, analysts record data points at consistent intervals over a set period of time rather than just recording the data points intermittently or randomly.\n",
    "\n",
    "## Models Used - Autoreggresive AR Model and ARIMA model\n",
    "\n",
    "### Autoreggresive AR Model\n",
    "\n",
    "Autoregression is a time series model that uses observations from previous time steps as input to a regression equation to predict the value at the next time step. It is a very simple idea that can result in accurate forecasts on a range of time series problems.It is a statistical model is autoregressive if it predicts future values based on past values. For example, an autoregressive model might seek to predict a stock's future prices based on its past performance.\n",
    "\n",
    "### ARIMA model\n",
    "\n",
    "`An autoregressive integrated moving average, or ARIMA`, is a statistical analysis model that uses time series data to either better understand the data set or to predict future trends. A statistical model is autoregressive if it predicts future values based on past values."
   ]
  },
  {
   "cell_type": "code",
   "execution_count": 1,
   "id": "1fe49c41",
   "metadata": {},
   "outputs": [],
   "source": [
    "import warnings\n",
    "warnings.filterwarnings('ignore') #this was given to avoid warnings\n",
    "import pandas as pd\n",
    "from pandas import datetime\n",
    "import matplotlib.pyplot as plt"
   ]
  },
  {
   "cell_type": "code",
   "execution_count": 2,
   "id": "83c21592",
   "metadata": {},
   "outputs": [
    {
     "data": {
      "text/html": [
       "<div>\n",
       "<style scoped>\n",
       "    .dataframe tbody tr th:only-of-type {\n",
       "        vertical-align: middle;\n",
       "    }\n",
       "\n",
       "    .dataframe tbody tr th {\n",
       "        vertical-align: top;\n",
       "    }\n",
       "\n",
       "    .dataframe thead th {\n",
       "        text-align: right;\n",
       "    }\n",
       "</style>\n",
       "<table border=\"1\" class=\"dataframe\">\n",
       "  <thead>\n",
       "    <tr style=\"text-align: right;\">\n",
       "      <th></th>\n",
       "      <th>Month</th>\n",
       "      <th>Sales</th>\n",
       "    </tr>\n",
       "  </thead>\n",
       "  <tbody>\n",
       "    <tr>\n",
       "      <th>0</th>\n",
       "      <td>2016-01</td>\n",
       "      <td>266</td>\n",
       "    </tr>\n",
       "    <tr>\n",
       "      <th>1</th>\n",
       "      <td>2016-02</td>\n",
       "      <td>146</td>\n",
       "    </tr>\n",
       "    <tr>\n",
       "      <th>2</th>\n",
       "      <td>2016-03</td>\n",
       "      <td>183</td>\n",
       "    </tr>\n",
       "    <tr>\n",
       "      <th>3</th>\n",
       "      <td>2016-04</td>\n",
       "      <td>119</td>\n",
       "    </tr>\n",
       "    <tr>\n",
       "      <th>4</th>\n",
       "      <td>2016-05</td>\n",
       "      <td>180</td>\n",
       "    </tr>\n",
       "  </tbody>\n",
       "</table>\n",
       "</div>"
      ],
      "text/plain": [
       "     Month  Sales\n",
       "0  2016-01    266\n",
       "1  2016-02    146\n",
       "2  2016-03    183\n",
       "3  2016-04    119\n",
       "4  2016-05    180"
      ]
     },
     "execution_count": 2,
     "metadata": {},
     "output_type": "execute_result"
    }
   ],
   "source": [
    "## import the dataset into Pandas Dataframe. The head() function is used to get the first n rows.\n",
    "df = pd.read_csv(\"sales-cars.csv\")\n",
    "df.head()"
   ]
  },
  {
   "cell_type": "markdown",
   "id": "68bfa568",
   "metadata": {},
   "source": [
    " Month is not taken as month '2016-02' its in a quotation ...it is considered as a string. we need to take it as a date otherwise we cannot do timeseries analysis.So an other package is imported in the first cell from pandas import datetime"
   ]
  },
  {
   "cell_type": "code",
   "execution_count": 3,
   "id": "0b85c181",
   "metadata": {},
   "outputs": [
    {
     "data": {
      "text/plain": [
       "'2016-02'"
      ]
     },
     "execution_count": 3,
     "metadata": {},
     "output_type": "execute_result"
    }
   ],
   "source": [
    "df.Month[1]"
   ]
  },
  {
   "cell_type": "code",
   "execution_count": 4,
   "id": "ca4ab5e3",
   "metadata": {},
   "outputs": [],
   "source": [
    "## defining a parser to change string to date and time.\n",
    "def parser(x):\n",
    "    return datetime.strptime(x,'%Y-%m')\n",
    "\n",
    "sales = pd.read_csv('sales-cars.csv',index_col=0, parse_dates=[0] ,date_parser=parser)"
   ]
  },
  {
   "cell_type": "markdown",
   "id": "3e065c4b",
   "metadata": {},
   "source": [
    "##### '%Y-%m' year and month\n",
    "##### if we have mutiple columns with date we can give parse_dates=[0,2,6]\"0,2,6\" are the column numbers\n",
    "##### index_col=0 date have to be an index so as to do my time series forecasting ,so i have given my 1st column as index"
   ]
  },
  {
   "cell_type": "code",
   "execution_count": 5,
   "id": "5589ef8c",
   "metadata": {},
   "outputs": [
    {
     "data": {
      "text/html": [
       "<div>\n",
       "<style scoped>\n",
       "    .dataframe tbody tr th:only-of-type {\n",
       "        vertical-align: middle;\n",
       "    }\n",
       "\n",
       "    .dataframe tbody tr th {\n",
       "        vertical-align: top;\n",
       "    }\n",
       "\n",
       "    .dataframe thead th {\n",
       "        text-align: right;\n",
       "    }\n",
       "</style>\n",
       "<table border=\"1\" class=\"dataframe\">\n",
       "  <thead>\n",
       "    <tr style=\"text-align: right;\">\n",
       "      <th></th>\n",
       "      <th>Sales</th>\n",
       "    </tr>\n",
       "    <tr>\n",
       "      <th>Month</th>\n",
       "      <th></th>\n",
       "    </tr>\n",
       "  </thead>\n",
       "  <tbody>\n",
       "    <tr>\n",
       "      <th>2016-01-01</th>\n",
       "      <td>266</td>\n",
       "    </tr>\n",
       "    <tr>\n",
       "      <th>2016-02-01</th>\n",
       "      <td>146</td>\n",
       "    </tr>\n",
       "    <tr>\n",
       "      <th>2016-03-01</th>\n",
       "      <td>183</td>\n",
       "    </tr>\n",
       "    <tr>\n",
       "      <th>2016-04-01</th>\n",
       "      <td>119</td>\n",
       "    </tr>\n",
       "    <tr>\n",
       "      <th>2016-05-01</th>\n",
       "      <td>180</td>\n",
       "    </tr>\n",
       "  </tbody>\n",
       "</table>\n",
       "</div>"
      ],
      "text/plain": [
       "            Sales\n",
       "Month            \n",
       "2016-01-01    266\n",
       "2016-02-01    146\n",
       "2016-03-01    183\n",
       "2016-04-01    119\n",
       "2016-05-01    180"
      ]
     },
     "execution_count": 5,
     "metadata": {},
     "output_type": "execute_result"
    }
   ],
   "source": [
    "sales.head() #The head() function is used to get the first n rows."
   ]
  },
  {
   "cell_type": "code",
   "execution_count": 6,
   "id": "137d1956",
   "metadata": {},
   "outputs": [
    {
     "data": {
      "text/plain": [
       "(36, 2)"
      ]
     },
     "execution_count": 6,
     "metadata": {},
     "output_type": "execute_result"
    }
   ],
   "source": [
    "df.shape"
   ]
  },
  {
   "cell_type": "code",
   "execution_count": 7,
   "id": "87d32e9c",
   "metadata": {},
   "outputs": [
    {
     "data": {
      "text/plain": [
       "<AxesSubplot:xlabel='Month'>"
      ]
     },
     "execution_count": 7,
     "metadata": {},
     "output_type": "execute_result"
    },
    {
     "data": {
      "image/png": "[encoded data removed]",
      "text/plain": [
       "<Figure size 432x288 with 1 Axes>"
      ]
     },
     "metadata": {
      "needs_background": "light"
     },
     "output_type": "display_data"
    }
   ],
   "source": [
    "sales.plot() ## Plot it on a  pyplot from imported matplotlib.pyplot as plt in the first cell.\n",
    "             ## Output : It is not a Stationary because there is a trend."
   ]
  },
  {
   "cell_type": "markdown",
   "id": "4c7e546f",
   "metadata": {},
   "source": [
    "### Stationary means mean, variance and covariance is constant over periods.\n",
    "#### we have to convert this series into stationary otherwise we cannot apply any of the timeseries analysis."
   ]
  },
  {
   "cell_type": "markdown",
   "id": "627007df",
   "metadata": {},
   "source": [
    "#### Converting Series in to Statinary we have to take the difference of the series"
   ]
  },
  {
   "cell_type": "code",
   "execution_count": 8,
   "id": "7b17d34c",
   "metadata": {},
   "outputs": [
    {
     "data": {
      "text/html": [
       "<div>\n",
       "<style scoped>\n",
       "    .dataframe tbody tr th:only-of-type {\n",
       "        vertical-align: middle;\n",
       "    }\n",
       "\n",
       "    .dataframe tbody tr th {\n",
       "        vertical-align: top;\n",
       "    }\n",
       "\n",
       "    .dataframe thead th {\n",
       "        text-align: right;\n",
       "    }\n",
       "</style>\n",
       "<table border=\"1\" class=\"dataframe\">\n",
       "  <thead>\n",
       "    <tr style=\"text-align: right;\">\n",
       "      <th></th>\n",
       "      <th>Sales</th>\n",
       "    </tr>\n",
       "    <tr>\n",
       "      <th>Month</th>\n",
       "      <th></th>\n",
       "    </tr>\n",
       "  </thead>\n",
       "  <tbody>\n",
       "    <tr>\n",
       "      <th>2016-01-01</th>\n",
       "      <td>266</td>\n",
       "    </tr>\n",
       "    <tr>\n",
       "      <th>2016-02-01</th>\n",
       "      <td>146</td>\n",
       "    </tr>\n",
       "    <tr>\n",
       "      <th>2016-03-01</th>\n",
       "      <td>183</td>\n",
       "    </tr>\n",
       "    <tr>\n",
       "      <th>2016-04-01</th>\n",
       "      <td>119</td>\n",
       "    </tr>\n",
       "    <tr>\n",
       "      <th>2016-05-01</th>\n",
       "      <td>180</td>\n",
       "    </tr>\n",
       "  </tbody>\n",
       "</table>\n",
       "</div>"
      ],
      "text/plain": [
       "            Sales\n",
       "Month            \n",
       "2016-01-01    266\n",
       "2016-02-01    146\n",
       "2016-03-01    183\n",
       "2016-04-01    119\n",
       "2016-05-01    180"
      ]
     },
     "execution_count": 8,
     "metadata": {},
     "output_type": "execute_result"
    }
   ],
   "source": [
    "sales.head()"
   ]
  },
  {
   "cell_type": "code",
   "execution_count": 9,
   "id": "ea727a79",
   "metadata": {},
   "outputs": [
    {
     "data": {
      "text/html": [
       "<div>\n",
       "<style scoped>\n",
       "    .dataframe tbody tr th:only-of-type {\n",
       "        vertical-align: middle;\n",
       "    }\n",
       "\n",
       "    .dataframe tbody tr th {\n",
       "        vertical-align: top;\n",
       "    }\n",
       "\n",
       "    .dataframe thead th {\n",
       "        text-align: right;\n",
       "    }\n",
       "</style>\n",
       "<table border=\"1\" class=\"dataframe\">\n",
       "  <thead>\n",
       "    <tr style=\"text-align: right;\">\n",
       "      <th></th>\n",
       "      <th>Sales</th>\n",
       "    </tr>\n",
       "    <tr>\n",
       "      <th>Month</th>\n",
       "      <th></th>\n",
       "    </tr>\n",
       "  </thead>\n",
       "  <tbody>\n",
       "    <tr>\n",
       "      <th>2016-01-01</th>\n",
       "      <td>NaN</td>\n",
       "    </tr>\n",
       "    <tr>\n",
       "      <th>2016-02-01</th>\n",
       "      <td>-120.0</td>\n",
       "    </tr>\n",
       "    <tr>\n",
       "      <th>2016-03-01</th>\n",
       "      <td>37.0</td>\n",
       "    </tr>\n",
       "    <tr>\n",
       "      <th>2016-04-01</th>\n",
       "      <td>-64.0</td>\n",
       "    </tr>\n",
       "    <tr>\n",
       "      <th>2016-05-01</th>\n",
       "      <td>61.0</td>\n",
       "    </tr>\n",
       "    <tr>\n",
       "      <th>2016-06-01</th>\n",
       "      <td>-11.0</td>\n",
       "    </tr>\n",
       "    <tr>\n",
       "      <th>2016-07-01</th>\n",
       "      <td>63.0</td>\n",
       "    </tr>\n",
       "    <tr>\n",
       "      <th>2016-08-01</th>\n",
       "      <td>-7.0</td>\n",
       "    </tr>\n",
       "    <tr>\n",
       "      <th>2016-09-01</th>\n",
       "      <td>-32.0</td>\n",
       "    </tr>\n",
       "    <tr>\n",
       "      <th>2016-10-01</th>\n",
       "      <td>-70.0</td>\n",
       "    </tr>\n",
       "    <tr>\n",
       "      <th>2016-11-01</th>\n",
       "      <td>214.0</td>\n",
       "    </tr>\n",
       "    <tr>\n",
       "      <th>2016-12-01</th>\n",
       "      <td>-151.0</td>\n",
       "    </tr>\n",
       "    <tr>\n",
       "      <th>2017-01-01</th>\n",
       "      <td>8.0</td>\n",
       "    </tr>\n",
       "    <tr>\n",
       "      <th>2017-02-01</th>\n",
       "      <td>-44.0</td>\n",
       "    </tr>\n",
       "    <tr>\n",
       "      <th>2017-03-01</th>\n",
       "      <td>60.0</td>\n",
       "    </tr>\n",
       "    <tr>\n",
       "      <th>2017-04-01</th>\n",
       "      <td>63.0</td>\n",
       "    </tr>\n",
       "    <tr>\n",
       "      <th>2017-05-01</th>\n",
       "      <td>-82.0</td>\n",
       "    </tr>\n",
       "    <tr>\n",
       "      <th>2017-06-01</th>\n",
       "      <td>96.0</td>\n",
       "    </tr>\n",
       "    <tr>\n",
       "      <th>2017-07-01</th>\n",
       "      <td>-61.0</td>\n",
       "    </tr>\n",
       "    <tr>\n",
       "      <th>2017-08-01</th>\n",
       "      <td>78.0</td>\n",
       "    </tr>\n",
       "    <tr>\n",
       "      <th>2017-09-01</th>\n",
       "      <td>-14.0</td>\n",
       "    </tr>\n",
       "    <tr>\n",
       "      <th>2017-10-01</th>\n",
       "      <td>132.0</td>\n",
       "    </tr>\n",
       "    <tr>\n",
       "      <th>2017-11-01</th>\n",
       "      <td>-157.0</td>\n",
       "    </tr>\n",
       "    <tr>\n",
       "      <th>2017-12-01</th>\n",
       "      <td>77.0</td>\n",
       "    </tr>\n",
       "    <tr>\n",
       "      <th>2018-01-01</th>\n",
       "      <td>-2.0</td>\n",
       "    </tr>\n",
       "    <tr>\n",
       "      <th>2018-02-01</th>\n",
       "      <td>100.0</td>\n",
       "    </tr>\n",
       "    <tr>\n",
       "      <th>2018-03-01</th>\n",
       "      <td>-124.0</td>\n",
       "    </tr>\n",
       "    <tr>\n",
       "      <th>2018-04-01</th>\n",
       "      <td>123.0</td>\n",
       "    </tr>\n",
       "    <tr>\n",
       "      <th>2018-05-01</th>\n",
       "      <td>-38.0</td>\n",
       "    </tr>\n",
       "    <tr>\n",
       "      <th>2018-06-01</th>\n",
       "      <td>-11.0</td>\n",
       "    </tr>\n",
       "    <tr>\n",
       "      <th>2018-07-01</th>\n",
       "      <td>100.0</td>\n",
       "    </tr>\n",
       "    <tr>\n",
       "      <th>2018-08-01</th>\n",
       "      <td>-82.0</td>\n",
       "    </tr>\n",
       "    <tr>\n",
       "      <th>2018-09-01</th>\n",
       "      <td>82.0</td>\n",
       "    </tr>\n",
       "    <tr>\n",
       "      <th>2018-10-01</th>\n",
       "      <td>-70.0</td>\n",
       "    </tr>\n",
       "    <tr>\n",
       "      <th>2018-11-01</th>\n",
       "      <td>100.0</td>\n",
       "    </tr>\n",
       "    <tr>\n",
       "      <th>2018-12-01</th>\n",
       "      <td>-40.0</td>\n",
       "    </tr>\n",
       "  </tbody>\n",
       "</table>\n",
       "</div>"
      ],
      "text/plain": [
       "            Sales\n",
       "Month            \n",
       "2016-01-01    NaN\n",
       "2016-02-01 -120.0\n",
       "2016-03-01   37.0\n",
       "2016-04-01  -64.0\n",
       "2016-05-01   61.0\n",
       "2016-06-01  -11.0\n",
       "2016-07-01   63.0\n",
       "2016-08-01   -7.0\n",
       "2016-09-01  -32.0\n",
       "2016-10-01  -70.0\n",
       "2016-11-01  214.0\n",
       "2016-12-01 -151.0\n",
       "2017-01-01    8.0\n",
       "2017-02-01  -44.0\n",
       "2017-03-01   60.0\n",
       "2017-04-01   63.0\n",
       "2017-05-01  -82.0\n",
       "2017-06-01   96.0\n",
       "2017-07-01  -61.0\n",
       "2017-08-01   78.0\n",
       "2017-09-01  -14.0\n",
       "2017-10-01  132.0\n",
       "2017-11-01 -157.0\n",
       "2017-12-01   77.0\n",
       "2018-01-01   -2.0\n",
       "2018-02-01  100.0\n",
       "2018-03-01 -124.0\n",
       "2018-04-01  123.0\n",
       "2018-05-01  -38.0\n",
       "2018-06-01  -11.0\n",
       "2018-07-01  100.0\n",
       "2018-08-01  -82.0\n",
       "2018-09-01   82.0\n",
       "2018-10-01  -70.0\n",
       "2018-11-01  100.0\n",
       "2018-12-01  -40.0"
      ]
     },
     "execution_count": 9,
     "metadata": {},
     "output_type": "execute_result"
    }
   ],
   "source": [
    "sales.diff(periods=1) ## Input: I have taken difference function of pandas and I have given diff as 1 \n",
    "                      ## output: is the first number is Nan as the diff is sought in the next number. 146-266= -120, 183-146= 37, 119-183= -64"
   ]
  },
  {
   "cell_type": "code",
   "execution_count": 10,
   "id": "e8fc0ecd",
   "metadata": {},
   "outputs": [],
   "source": [
    "sales_diff= sales.diff(periods=1)"
   ]
  },
  {
   "cell_type": "code",
   "execution_count": 11,
   "id": "35247096",
   "metadata": {},
   "outputs": [
    {
     "data": {
      "text/html": [
       "<div>\n",
       "<style scoped>\n",
       "    .dataframe tbody tr th:only-of-type {\n",
       "        vertical-align: middle;\n",
       "    }\n",
       "\n",
       "    .dataframe tbody tr th {\n",
       "        vertical-align: top;\n",
       "    }\n",
       "\n",
       "    .dataframe thead th {\n",
       "        text-align: right;\n",
       "    }\n",
       "</style>\n",
       "<table border=\"1\" class=\"dataframe\">\n",
       "  <thead>\n",
       "    <tr style=\"text-align: right;\">\n",
       "      <th></th>\n",
       "      <th>Sales</th>\n",
       "    </tr>\n",
       "    <tr>\n",
       "      <th>Month</th>\n",
       "      <th></th>\n",
       "    </tr>\n",
       "  </thead>\n",
       "  <tbody>\n",
       "    <tr>\n",
       "      <th>2016-02-01</th>\n",
       "      <td>-120.0</td>\n",
       "    </tr>\n",
       "    <tr>\n",
       "      <th>2016-03-01</th>\n",
       "      <td>37.0</td>\n",
       "    </tr>\n",
       "    <tr>\n",
       "      <th>2016-04-01</th>\n",
       "      <td>-64.0</td>\n",
       "    </tr>\n",
       "    <tr>\n",
       "      <th>2016-05-01</th>\n",
       "      <td>61.0</td>\n",
       "    </tr>\n",
       "    <tr>\n",
       "      <th>2016-06-01</th>\n",
       "      <td>-11.0</td>\n",
       "    </tr>\n",
       "  </tbody>\n",
       "</table>\n",
       "</div>"
      ],
      "text/plain": [
       "            Sales\n",
       "Month            \n",
       "2016-02-01 -120.0\n",
       "2016-03-01   37.0\n",
       "2016-04-01  -64.0\n",
       "2016-05-01   61.0\n",
       "2016-06-01  -11.0"
      ]
     },
     "execution_count": 11,
     "metadata": {},
     "output_type": "execute_result"
    }
   ],
   "source": [
    "sales_diff = sales_diff[1:] ##I dont want that NAN to appear, so I am just displaying 1st value to the end.\n",
    "sales_diff.head()"
   ]
  },
  {
   "cell_type": "markdown",
   "id": "a4a210d0",
   "metadata": {},
   "source": [
    "when you try to find the correlation between two sales that is called as auto correlation. \n",
    "The dot with line plotted are lags and if we correlate sales with sales we get 1 correlation coefficient as shown in fig.\n",
    "similarly 1 lag that is one time lag the correlation factor is 0.7 and 2 lags is 0.75 and it slowly decaying showing that the series is not stationary.\n",
    "It should be ideally decayed immediately and the next correlation is either 0 or negative that shows the data is stationary. We need stationary data to do Time Series Forecasting."
   ]
  },
  {
   "cell_type": "markdown",
   "id": "398ae0c0",
   "metadata": {},
   "source": [
    "### Stationary means the MEAN, VARIANCE & COVARIANCE is constant over different builds of time."
   ]
  },
  {
   "cell_type": "code",
   "execution_count": 12,
   "id": "e0103dbc",
   "metadata": {},
   "outputs": [
    {
     "data": {
      "image/png": "[encoded data removed]",
      "text/plain": [
       "<Figure size 432x288 with 1 Axes>"
      ]
     },
     "execution_count": 12,
     "metadata": {},
     "output_type": "execute_result"
    },
    {
     "data": {
      "image/png": "[encoded data removed]",
      "text/plain": [
       "<Figure size 432x288 with 1 Axes>"
      ]
     },
     "metadata": {
      "needs_background": "light"
     },
     "output_type": "display_data"
    }
   ],
   "source": [
    "from statsmodels.graphics.tsaplots import plot_acf\n",
    "plot_acf(sales)"
   ]
  },
  {
   "cell_type": "code",
   "execution_count": 13,
   "id": "893723e7",
   "metadata": {},
   "outputs": [
    {
     "data": {
      "text/html": [
       "<div>\n",
       "<style scoped>\n",
       "    .dataframe tbody tr th:only-of-type {\n",
       "        vertical-align: middle;\n",
       "    }\n",
       "\n",
       "    .dataframe tbody tr th {\n",
       "        vertical-align: top;\n",
       "    }\n",
       "\n",
       "    .dataframe thead th {\n",
       "        text-align: right;\n",
       "    }\n",
       "</style>\n",
       "<table border=\"1\" class=\"dataframe\">\n",
       "  <thead>\n",
       "    <tr style=\"text-align: right;\">\n",
       "      <th></th>\n",
       "      <th>Sales</th>\n",
       "    </tr>\n",
       "    <tr>\n",
       "      <th>Month</th>\n",
       "      <th></th>\n",
       "    </tr>\n",
       "  </thead>\n",
       "  <tbody>\n",
       "    <tr>\n",
       "      <th>2016-01-01</th>\n",
       "      <td>NaN</td>\n",
       "    </tr>\n",
       "    <tr>\n",
       "      <th>2016-02-01</th>\n",
       "      <td>266.0</td>\n",
       "    </tr>\n",
       "    <tr>\n",
       "      <th>2016-03-01</th>\n",
       "      <td>146.0</td>\n",
       "    </tr>\n",
       "    <tr>\n",
       "      <th>2016-04-01</th>\n",
       "      <td>183.0</td>\n",
       "    </tr>\n",
       "    <tr>\n",
       "      <th>2016-05-01</th>\n",
       "      <td>119.0</td>\n",
       "    </tr>\n",
       "    <tr>\n",
       "      <th>2016-06-01</th>\n",
       "      <td>180.0</td>\n",
       "    </tr>\n",
       "    <tr>\n",
       "      <th>2016-07-01</th>\n",
       "      <td>169.0</td>\n",
       "    </tr>\n",
       "    <tr>\n",
       "      <th>2016-08-01</th>\n",
       "      <td>232.0</td>\n",
       "    </tr>\n",
       "    <tr>\n",
       "      <th>2016-09-01</th>\n",
       "      <td>225.0</td>\n",
       "    </tr>\n",
       "    <tr>\n",
       "      <th>2016-10-01</th>\n",
       "      <td>193.0</td>\n",
       "    </tr>\n",
       "    <tr>\n",
       "      <th>2016-11-01</th>\n",
       "      <td>123.0</td>\n",
       "    </tr>\n",
       "    <tr>\n",
       "      <th>2016-12-01</th>\n",
       "      <td>337.0</td>\n",
       "    </tr>\n",
       "    <tr>\n",
       "      <th>2017-01-01</th>\n",
       "      <td>186.0</td>\n",
       "    </tr>\n",
       "    <tr>\n",
       "      <th>2017-02-01</th>\n",
       "      <td>194.0</td>\n",
       "    </tr>\n",
       "    <tr>\n",
       "      <th>2017-03-01</th>\n",
       "      <td>150.0</td>\n",
       "    </tr>\n",
       "    <tr>\n",
       "      <th>2017-04-01</th>\n",
       "      <td>210.0</td>\n",
       "    </tr>\n",
       "    <tr>\n",
       "      <th>2017-05-01</th>\n",
       "      <td>273.0</td>\n",
       "    </tr>\n",
       "    <tr>\n",
       "      <th>2017-06-01</th>\n",
       "      <td>191.0</td>\n",
       "    </tr>\n",
       "    <tr>\n",
       "      <th>2017-07-01</th>\n",
       "      <td>287.0</td>\n",
       "    </tr>\n",
       "    <tr>\n",
       "      <th>2017-08-01</th>\n",
       "      <td>226.0</td>\n",
       "    </tr>\n",
       "    <tr>\n",
       "      <th>2017-09-01</th>\n",
       "      <td>304.0</td>\n",
       "    </tr>\n",
       "    <tr>\n",
       "      <th>2017-10-01</th>\n",
       "      <td>290.0</td>\n",
       "    </tr>\n",
       "    <tr>\n",
       "      <th>2017-11-01</th>\n",
       "      <td>422.0</td>\n",
       "    </tr>\n",
       "    <tr>\n",
       "      <th>2017-12-01</th>\n",
       "      <td>265.0</td>\n",
       "    </tr>\n",
       "    <tr>\n",
       "      <th>2018-01-01</th>\n",
       "      <td>342.0</td>\n",
       "    </tr>\n",
       "    <tr>\n",
       "      <th>2018-02-01</th>\n",
       "      <td>340.0</td>\n",
       "    </tr>\n",
       "    <tr>\n",
       "      <th>2018-03-01</th>\n",
       "      <td>440.0</td>\n",
       "    </tr>\n",
       "    <tr>\n",
       "      <th>2018-04-01</th>\n",
       "      <td>316.0</td>\n",
       "    </tr>\n",
       "    <tr>\n",
       "      <th>2018-05-01</th>\n",
       "      <td>439.0</td>\n",
       "    </tr>\n",
       "    <tr>\n",
       "      <th>2018-06-01</th>\n",
       "      <td>401.0</td>\n",
       "    </tr>\n",
       "    <tr>\n",
       "      <th>2018-07-01</th>\n",
       "      <td>390.0</td>\n",
       "    </tr>\n",
       "    <tr>\n",
       "      <th>2018-08-01</th>\n",
       "      <td>490.0</td>\n",
       "    </tr>\n",
       "    <tr>\n",
       "      <th>2018-09-01</th>\n",
       "      <td>408.0</td>\n",
       "    </tr>\n",
       "    <tr>\n",
       "      <th>2018-10-01</th>\n",
       "      <td>490.0</td>\n",
       "    </tr>\n",
       "    <tr>\n",
       "      <th>2018-11-01</th>\n",
       "      <td>420.0</td>\n",
       "    </tr>\n",
       "    <tr>\n",
       "      <th>2018-12-01</th>\n",
       "      <td>520.0</td>\n",
       "    </tr>\n",
       "  </tbody>\n",
       "</table>\n",
       "</div>"
      ],
      "text/plain": [
       "            Sales\n",
       "Month            \n",
       "2016-01-01    NaN\n",
       "2016-02-01  266.0\n",
       "2016-03-01  146.0\n",
       "2016-04-01  183.0\n",
       "2016-05-01  119.0\n",
       "2016-06-01  180.0\n",
       "2016-07-01  169.0\n",
       "2016-08-01  232.0\n",
       "2016-09-01  225.0\n",
       "2016-10-01  193.0\n",
       "2016-11-01  123.0\n",
       "2016-12-01  337.0\n",
       "2017-01-01  186.0\n",
       "2017-02-01  194.0\n",
       "2017-03-01  150.0\n",
       "2017-04-01  210.0\n",
       "2017-05-01  273.0\n",
       "2017-06-01  191.0\n",
       "2017-07-01  287.0\n",
       "2017-08-01  226.0\n",
       "2017-09-01  304.0\n",
       "2017-10-01  290.0\n",
       "2017-11-01  422.0\n",
       "2017-12-01  265.0\n",
       "2018-01-01  342.0\n",
       "2018-02-01  340.0\n",
       "2018-03-01  440.0\n",
       "2018-04-01  316.0\n",
       "2018-05-01  439.0\n",
       "2018-06-01  401.0\n",
       "2018-07-01  390.0\n",
       "2018-08-01  490.0\n",
       "2018-09-01  408.0\n",
       "2018-10-01  490.0\n",
       "2018-11-01  420.0\n",
       "2018-12-01  520.0"
      ]
     },
     "execution_count": 13,
     "metadata": {},
     "output_type": "execute_result"
    }
   ],
   "source": [
    "sales.shift(1)"
   ]
  },
  {
   "cell_type": "markdown",
   "id": "f8164b1f",
   "metadata": {},
   "source": [
    "### Explanation of below cell.\n",
    "#### It is also called as integrated of order 1(its 1 because we are taking 1 lag or 1 time period), \n",
    "#### denoted by d (for diff), one of the parameter of ARIMA model"
   ]
  },
  {
   "cell_type": "code",
   "execution_count": 14,
   "id": "f7fe265d",
   "metadata": {},
   "outputs": [],
   "source": [
    "sales_diff = sales.diff(periods=1)\n"
   ]
  },
  {
   "cell_type": "code",
   "execution_count": 15,
   "id": "5c06572d",
   "metadata": {},
   "outputs": [
    {
     "data": {
      "text/html": [
       "<div>\n",
       "<style scoped>\n",
       "    .dataframe tbody tr th:only-of-type {\n",
       "        vertical-align: middle;\n",
       "    }\n",
       "\n",
       "    .dataframe tbody tr th {\n",
       "        vertical-align: top;\n",
       "    }\n",
       "\n",
       "    .dataframe thead th {\n",
       "        text-align: right;\n",
       "    }\n",
       "</style>\n",
       "<table border=\"1\" class=\"dataframe\">\n",
       "  <thead>\n",
       "    <tr style=\"text-align: right;\">\n",
       "      <th></th>\n",
       "      <th>Sales</th>\n",
       "    </tr>\n",
       "    <tr>\n",
       "      <th>Month</th>\n",
       "      <th></th>\n",
       "    </tr>\n",
       "  </thead>\n",
       "  <tbody>\n",
       "    <tr>\n",
       "      <th>2016-02-01</th>\n",
       "      <td>-120.0</td>\n",
       "    </tr>\n",
       "    <tr>\n",
       "      <th>2016-03-01</th>\n",
       "      <td>37.0</td>\n",
       "    </tr>\n",
       "    <tr>\n",
       "      <th>2016-04-01</th>\n",
       "      <td>-64.0</td>\n",
       "    </tr>\n",
       "    <tr>\n",
       "      <th>2016-05-01</th>\n",
       "      <td>61.0</td>\n",
       "    </tr>\n",
       "    <tr>\n",
       "      <th>2016-06-01</th>\n",
       "      <td>-11.0</td>\n",
       "    </tr>\n",
       "  </tbody>\n",
       "</table>\n",
       "</div>"
      ],
      "text/plain": [
       "            Sales\n",
       "Month            \n",
       "2016-02-01 -120.0\n",
       "2016-03-01   37.0\n",
       "2016-04-01  -64.0\n",
       "2016-05-01   61.0\n",
       "2016-06-01  -11.0"
      ]
     },
     "execution_count": 15,
     "metadata": {},
     "output_type": "execute_result"
    }
   ],
   "source": [
    "sales_diff = sales_diff[1:]\n",
    "sales_diff.head()"
   ]
  },
  {
   "cell_type": "code",
   "execution_count": 16,
   "id": "4315d285",
   "metadata": {},
   "outputs": [
    {
     "data": {
      "image/png": "[encoded data removed]",
      "text/plain": [
       "<Figure size 432x288 with 1 Axes>"
      ]
     },
     "execution_count": 16,
     "metadata": {},
     "output_type": "execute_result"
    },
    {
     "data": {
      "image/png": "[encoded data removed]",
      "text/plain": [
       "<Figure size 432x288 with 1 Axes>"
      ]
     },
     "metadata": {
      "needs_background": "light"
     },
     "output_type": "display_data"
    }
   ],
   "source": [
    "plot_acf(sales_diff) ## here it quickly decayed and went to negative so this is very good stationary"
   ]
  },
  {
   "cell_type": "markdown",
   "id": "c7b5c697",
   "metadata": {},
   "source": [
    "#### The mean at every point is same , the variance also the same and this data is good enough for moving forward for modelling."
   ]
  },
  {
   "cell_type": "code",
   "execution_count": 17,
   "id": "22236c8c",
   "metadata": {},
   "outputs": [
    {
     "data": {
      "text/plain": [
       "<AxesSubplot:xlabel='Month'>"
      ]
     },
     "execution_count": 17,
     "metadata": {},
     "output_type": "execute_result"
    },
    {
     "data": {
      "image/png": "[encoded data removed]",
      "text/plain": [
       "<Figure size 432x288 with 1 Axes>"
      ]
     },
     "metadata": {
      "needs_background": "light"
     },
     "output_type": "display_data"
    }
   ],
   "source": [
    "sales_diff.plot() "
   ]
  },
  {
   "cell_type": "markdown",
   "id": "720fabe7",
   "metadata": {},
   "source": [
    "## Done with:\n",
    "The time column data have become Index and it is recognized as time\n",
    "\n",
    "Then we looked at the plot where we found it is not stationary so we have taken a difference of it and then made it \"Stationary\".\n"
   ]
  },
  {
   "cell_type": "code",
   "execution_count": 18,
   "id": "90c5fe3c",
   "metadata": {},
   "outputs": [],
   "source": [
    "X = sales.values\n",
    "train = X[0:28] # 28 data as train data\n",
    "test = X[28:]  # 10 data as test data\n",
    "predictions = []"
   ]
  },
  {
   "cell_type": "code",
   "execution_count": 19,
   "id": "8f505731",
   "metadata": {},
   "outputs": [
    {
     "data": {
      "text/plain": [
       "28"
      ]
     },
     "execution_count": 19,
     "metadata": {},
     "output_type": "execute_result"
    }
   ],
   "source": [
    "train.size"
   ]
  },
  {
   "cell_type": "markdown",
   "id": "d4c44074",
   "metadata": {},
   "source": [
    "### Autoreggresive AR Model"
   ]
  },
  {
   "cell_type": "code",
   "execution_count": 20,
   "id": "775c466e",
   "metadata": {},
   "outputs": [],
   "source": [
    "import warnings\n",
    "warnings.filterwarnings('ignore') #this was given to avoid warnings\n",
    "from statsmodels.tsa.ar_model import AR\n",
    "from sklearn.metrics import mean_squared_error #find the error square it add it and the find the avarage thats mean squared error.\n",
    "model_ar = AR(train)\n",
    "model_ar_fit = model_ar.fit()"
   ]
  },
  {
   "cell_type": "code",
   "execution_count": 21,
   "id": "c499e09d",
   "metadata": {},
   "outputs": [
    {
     "data": {
      "text/plain": [
       "36"
      ]
     },
     "execution_count": 21,
     "metadata": {},
     "output_type": "execute_result"
    }
   ],
   "source": [
    "X = sales.values ## its 3 years data so 3 * 12 months = 36 datas. I am taking 80 % of the data for training and 20 % for testing\n",
    "X.size           ## 80 % of this data lets take 27"
   ]
  },
  {
   "cell_type": "code",
   "execution_count": 22,
   "id": "0a4bc681",
   "metadata": {},
   "outputs": [],
   "source": [
    "X = sales.values\n",
    "train = X [0:26] # 26 datas as train data\n",
    "test = X [26:] #10 datas as test data\n",
    "prediction = [] # prediction is done using AR Model and then ARIMA Model"
   ]
  },
  {
   "cell_type": "code",
   "execution_count": 23,
   "id": "152e0389",
   "metadata": {},
   "outputs": [
    {
     "data": {
      "text/plain": [
       "10"
      ]
     },
     "execution_count": 23,
     "metadata": {},
     "output_type": "execute_result"
    }
   ],
   "source": [
    "test.size"
   ]
  },
  {
   "cell_type": "code",
   "execution_count": 24,
   "id": "17374073",
   "metadata": {},
   "outputs": [],
   "source": [
    "predictions = model_ar_fit.predict(start=26,end=36)  ## AR model we call it as predict and ARIMA model we call it as forecast"
   ]
  },
  {
   "cell_type": "code",
   "execution_count": 25,
   "id": "a8182896",
   "metadata": {
    "scrolled": true
   },
   "outputs": [
    {
     "data": {
      "text/plain": [
       "array([[316],\n",
       "       [439],\n",
       "       [401],\n",
       "       [390],\n",
       "       [490],\n",
       "       [408],\n",
       "       [490],\n",
       "       [420],\n",
       "       [520],\n",
       "       [480]], dtype=int64)"
      ]
     },
     "execution_count": 25,
     "metadata": {},
     "output_type": "execute_result"
    }
   ],
   "source": [
    "test"
   ]
  },
  {
   "cell_type": "code",
   "execution_count": 26,
   "id": "9d74fade",
   "metadata": {},
   "outputs": [
    {
     "data": {
      "text/plain": [
       "[<matplotlib.lines.Line2D at 0x155109b09a0>]"
      ]
     },
     "execution_count": 26,
     "metadata": {},
     "output_type": "execute_result"
    },
    {
     "data": {
      "image/png": "[encoded data removed]",
      "text/plain": [
       "<Figure size 432x288 with 1 Axes>"
      ]
     },
     "metadata": {
      "needs_background": "light"
     },
     "output_type": "display_data"
    }
   ],
   "source": [
    "plt.plot(test)\n",
    "plt.plot(predictions,color='red')"
   ]
  },
  {
   "cell_type": "code",
   "execution_count": 27,
   "id": "fe3a56f9",
   "metadata": {},
   "outputs": [
    {
     "data": {
      "text/plain": [
       "<AxesSubplot:xlabel='Month'>"
      ]
     },
     "execution_count": 27,
     "metadata": {},
     "output_type": "execute_result"
    },
    {
     "data": {
      "image/png": "[encoded data removed]",
      "text/plain": [
       "<Figure size 432x288 with 1 Axes>"
      ]
     },
     "metadata": {
      "needs_background": "light"
     },
     "output_type": "display_data"
    }
   ],
   "source": [
    "sales.plot() #this is our actual graph"
   ]
  },
  {
   "cell_type": "markdown",
   "id": "3c6bbe91",
   "metadata": {},
   "source": [
    "### ARIMA model"
   ]
  },
  {
   "cell_type": "code",
   "execution_count": 28,
   "id": "bf043053",
   "metadata": {},
   "outputs": [],
   "source": [
    "from statsmodels.tsa.arima_model import ARIMA"
   ]
  },
  {
   "cell_type": "markdown",
   "id": "5f10ad9c",
   "metadata": {},
   "source": [
    "#### p,d & q  \n",
    "\n",
    "p = periods taken for autoregressive model eg- If i want to predict sales in June , If I am taking May-June then the perids taken is 1,if am taking April may then I am taking 2 periods\n",
    "\n",
    "d = Integrated order, difference\n",
    "\n",
    "q = periods in moving average model\n",
    "\n",
    "how to get the best fit is that, in ARIMA model we are combining 3 techniques, it is difficult to say which parameters of P D Q will actually works better.\n",
    "\n",
    "There is the one method we use that is AIC method, we should go for the minimum value of AIC, its more like our mean squared error"
   ]
  },
  {
   "cell_type": "code",
   "execution_count": 29,
   "id": "bfd20576",
   "metadata": {},
   "outputs": [
    {
     "name": "stdout",
     "output_type": "stream",
     "text": [
      "312.79283456903505\n"
     ]
    }
   ],
   "source": [
    "import warnings\n",
    "warnings.filterwarnings('ignore') #this was given to avoid warnings\n",
    "model_arima = ARIMA(train,order=(9, 2, 0)) \n",
    "model_arima_fit = model_arima.fit()\n",
    "print(model_arima_fit.aic) # i will print my AIC value and here i have got 312 as my aic value"
   ]
  },
  {
   "cell_type": "code",
   "execution_count": 30,
   "id": "470119de",
   "metadata": {},
   "outputs": [
    {
     "data": {
      "text/plain": [
       "array([353.11317587, 361.15643646, 387.13453517, 372.19108568,\n",
       "       408.25636143, 375.05817465, 411.19357194, 303.28773258,\n",
       "       397.80702606, 352.8316314 ])"
      ]
     },
     "execution_count": 30,
     "metadata": {},
     "output_type": "execute_result"
    }
   ],
   "source": [
    "predictions= model_arima_fit.forecast(steps=10)[0]\n",
    "predictions"
   ]
  },
  {
   "cell_type": "code",
   "execution_count": 31,
   "id": "7245d253",
   "metadata": {},
   "outputs": [
    {
     "data": {
      "text/plain": [
       "[<matplotlib.lines.Line2D at 0x155116e8790>]"
      ]
     },
     "execution_count": 31,
     "metadata": {},
     "output_type": "execute_result"
    },
    {
     "data": {
      "image/png": "[encoded data removed]",
      "text/plain": [
       "<Figure size 432x288 with 1 Axes>"
      ]
     },
     "metadata": {
      "needs_background": "light"
     },
     "output_type": "display_data"
    }
   ],
   "source": [
    "plt.plot(test)\n",
    "plt.plot(predictions,color='red')"
   ]
  },
  {
   "cell_type": "code",
   "execution_count": 32,
   "id": "2f2d6692",
   "metadata": {},
   "outputs": [
    {
     "data": {
      "text/plain": [
       "6664.872637920866"
      ]
     },
     "execution_count": 32,
     "metadata": {},
     "output_type": "execute_result"
    }
   ],
   "source": [
    "mean_squared_error(test,predictions)"
   ]
  },
  {
   "cell_type": "markdown",
   "id": "0bc25c90",
   "metadata": {},
   "source": [
    "`p=d=q` = range(0,5) # i have given all the values 0 to 5 values for PDQ as some of the combinations may not be correct and ARIMA might throw error and so we are trying to give a range of values to PDQ by using a simple tool called an iteration tool\n",
    "\n",
    "`pdq` = list(itertools.product(p,d,q)) # in iteration tool i will convert it in to list, i have taken the product basically it combines all the combinations that is product that I will pass on PDQ\n",
    "\n",
    "`pdq` # the output below prints out all the combinations like what we have given in model_arima = ARIMA(train,order=(9, 2, 0)) visually it looks perfect 9 is my time lag as when u look at the graph the pattern repeating in 9 or ten months ,0 is my moving average and 2 is differencing 2 times. I was just trying with the numbers to get the best fit."
   ]
  },
  {
   "cell_type": "code",
   "execution_count": 33,
   "id": "2bf7ee2e",
   "metadata": {},
   "outputs": [
    {
     "data": {
      "text/plain": [
       "[(0, 0, 0),\n",
       " (0, 0, 1),\n",
       " (0, 0, 2),\n",
       " (0, 0, 3),\n",
       " (0, 0, 4),\n",
       " (0, 1, 0),\n",
       " (0, 1, 1),\n",
       " (0, 1, 2),\n",
       " (0, 1, 3),\n",
       " (0, 1, 4),\n",
       " (0, 2, 0),\n",
       " (0, 2, 1),\n",
       " (0, 2, 2),\n",
       " (0, 2, 3),\n",
       " (0, 2, 4),\n",
       " (0, 3, 0),\n",
       " (0, 3, 1),\n",
       " (0, 3, 2),\n",
       " (0, 3, 3),\n",
       " (0, 3, 4),\n",
       " (0, 4, 0),\n",
       " (0, 4, 1),\n",
       " (0, 4, 2),\n",
       " (0, 4, 3),\n",
       " (0, 4, 4),\n",
       " (1, 0, 0),\n",
       " (1, 0, 1),\n",
       " (1, 0, 2),\n",
       " (1, 0, 3),\n",
       " (1, 0, 4),\n",
       " (1, 1, 0),\n",
       " (1, 1, 1),\n",
       " (1, 1, 2),\n",
       " (1, 1, 3),\n",
       " (1, 1, 4),\n",
       " (1, 2, 0),\n",
       " (1, 2, 1),\n",
       " (1, 2, 2),\n",
       " (1, 2, 3),\n",
       " (1, 2, 4),\n",
       " (1, 3, 0),\n",
       " (1, 3, 1),\n",
       " (1, 3, 2),\n",
       " (1, 3, 3),\n",
       " (1, 3, 4),\n",
       " (1, 4, 0),\n",
       " (1, 4, 1),\n",
       " (1, 4, 2),\n",
       " (1, 4, 3),\n",
       " (1, 4, 4),\n",
       " (2, 0, 0),\n",
       " (2, 0, 1),\n",
       " (2, 0, 2),\n",
       " (2, 0, 3),\n",
       " (2, 0, 4),\n",
       " (2, 1, 0),\n",
       " (2, 1, 1),\n",
       " (2, 1, 2),\n",
       " (2, 1, 3),\n",
       " (2, 1, 4),\n",
       " (2, 2, 0),\n",
       " (2, 2, 1),\n",
       " (2, 2, 2),\n",
       " (2, 2, 3),\n",
       " (2, 2, 4),\n",
       " (2, 3, 0),\n",
       " (2, 3, 1),\n",
       " (2, 3, 2),\n",
       " (2, 3, 3),\n",
       " (2, 3, 4),\n",
       " (2, 4, 0),\n",
       " (2, 4, 1),\n",
       " (2, 4, 2),\n",
       " (2, 4, 3),\n",
       " (2, 4, 4),\n",
       " (3, 0, 0),\n",
       " (3, 0, 1),\n",
       " (3, 0, 2),\n",
       " (3, 0, 3),\n",
       " (3, 0, 4),\n",
       " (3, 1, 0),\n",
       " (3, 1, 1),\n",
       " (3, 1, 2),\n",
       " (3, 1, 3),\n",
       " (3, 1, 4),\n",
       " (3, 2, 0),\n",
       " (3, 2, 1),\n",
       " (3, 2, 2),\n",
       " (3, 2, 3),\n",
       " (3, 2, 4),\n",
       " (3, 3, 0),\n",
       " (3, 3, 1),\n",
       " (3, 3, 2),\n",
       " (3, 3, 3),\n",
       " (3, 3, 4),\n",
       " (3, 4, 0),\n",
       " (3, 4, 1),\n",
       " (3, 4, 2),\n",
       " (3, 4, 3),\n",
       " (3, 4, 4),\n",
       " (4, 0, 0),\n",
       " (4, 0, 1),\n",
       " (4, 0, 2),\n",
       " (4, 0, 3),\n",
       " (4, 0, 4),\n",
       " (4, 1, 0),\n",
       " (4, 1, 1),\n",
       " (4, 1, 2),\n",
       " (4, 1, 3),\n",
       " (4, 1, 4),\n",
       " (4, 2, 0),\n",
       " (4, 2, 1),\n",
       " (4, 2, 2),\n",
       " (4, 2, 3),\n",
       " (4, 2, 4),\n",
       " (4, 3, 0),\n",
       " (4, 3, 1),\n",
       " (4, 3, 2),\n",
       " (4, 3, 3),\n",
       " (4, 3, 4),\n",
       " (4, 4, 0),\n",
       " (4, 4, 1),\n",
       " (4, 4, 2),\n",
       " (4, 4, 3),\n",
       " (4, 4, 4)]"
      ]
     },
     "execution_count": 33,
     "metadata": {},
     "output_type": "execute_result"
    }
   ],
   "source": [
    "import itertools \n",
    "p=d=q=range(0,5) \n",
    "pdq = list(itertools.product(p,d,q)) \n",
    "pdq "
   ]
  },
  {
   "cell_type": "markdown",
   "id": "4f4f0df8",
   "metadata": {},
   "source": [
    "for param in pdq: #here we call the above printed output as param\n",
    "    \n",
    "model_arima = ARIMA(train,order=param) # and then I'm simply call param instead of giving values like model_arima = ARIMA(train,order=(9, 2, 0))\n",
    "        \n",
    "print(param,model_arima_fit.aic) # I am checking which params gives me the minimum value\n",
    "\n",
    "which combination gives me the minimum value?\n",
    "\n",
    "(0, 2, 2) 278.04421109575054 i tried giving this but it is not satisfying as visually i doest looks so accurate but based on AIC its ok so i tried giving (9, 2, 0) my time lags was actually 9 and moving average 0 "
   ]
  },
  {
   "cell_type": "code",
   "execution_count": 34,
   "id": "30c42b9b",
   "metadata": {},
   "outputs": [
    {
     "name": "stdout",
     "output_type": "stream",
     "text": [
      "(0, 0, 0) 308.0096539919454\n",
      "(0, 0, 1) 307.97137973464396\n",
      "(0, 0, 2) 304.7951964747078\n",
      "(0, 0, 3) nan\n",
      "(0, 0, 4) 300.1530963245398\n",
      "(0, 1, 0) 298.93626636014545\n",
      "(0, 1, 1) 285.7698381358301\n",
      "(0, 1, 2) 285.9520236928796\n",
      "(0, 1, 3) 287.874929126289\n",
      "(0, 1, 4) 287.80406844940603\n",
      "(0, 2, 0) 315.1545685734785\n",
      "(0, 2, 1) 292.5343152759166\n",
      "(0, 2, 2) 278.04421109575054\n",
      "(0, 2, 3) 278.1718619010629\n",
      "(1, 0, 0) 305.6355497247354\n",
      "(1, 0, 1) 302.53147162149844\n",
      "(1, 0, 2) 300.86767340437075\n",
      "(1, 1, 0) 287.5890329814021\n",
      "(1, 1, 1) 287.0668643941301\n",
      "(1, 1, 2) 289.35957416365136\n",
      "(1, 1, 4) 288.3614570715355\n",
      "(1, 2, 0) 293.20019574876414\n",
      "(1, 2, 1) 281.8781599936242\n",
      "(1, 2, 2) 278.3430054932163\n",
      "(2, 0, 0) 300.6312882418863\n",
      "(2, 0, 1) 327.0422073555336\n",
      "(2, 1, 0) 289.1907303163423\n",
      "(2, 1, 1) 287.87364871384716\n",
      "(2, 2, 0) 292.80701167344137\n",
      "(2, 2, 1) 283.53489172234964\n",
      "(3, 0, 0) 302.62359758142503\n",
      "(3, 0, 4) 300.57837020255016\n",
      "(3, 1, 0) 284.8544454751026\n",
      "(3, 1, 1) 285.9356677925124\n",
      "(3, 1, 2) 282.3460719631942\n",
      "(3, 1, 3) 284.26020154278365\n",
      "(3, 2, 0) 288.49250108843637\n",
      "(3, 2, 1) 279.7046260430932\n",
      "(3, 2, 2) 282.3639892125259\n",
      "(3, 2, 3) 277.47033208434607\n",
      "(4, 0, 0) 309.51436868296696\n",
      "(4, 0, 1) 312.1976432882923\n",
      "(4, 1, 0) 285.7840231473568\n",
      "(4, 1, 1) 287.76875870121296\n",
      "(4, 1, 2) 284.28451541988295\n",
      "(4, 1, 3) 286.2585558925481\n",
      "(4, 2, 0) 285.6359818653659\n",
      "(4, 2, 1) 280.1104489385371\n",
      "(4, 2, 2) 282.8590140940265\n"
     ]
    }
   ],
   "source": [
    "import warnings\n",
    "warnings.filterwarnings('ignore') #this was given to avoid warnings\n",
    "for param in pdq: #here we call the above printed output as param \n",
    "    try:\n",
    "        model_arima = ARIMA(train,order=param) # and then I'm simply call param instead of giving values like model_arima = ARIMA(train,order=(9, 2, 0))\n",
    "        model_arima_fit = model_arima.fit()\n",
    "        print(param,model_arima_fit.aic) # i have mentioned which params gives me the minimum value\n",
    "    except:\n",
    "        continue # try except continue was given to avoid throw back of error\n",
    "                 # which combination gives me the minimum value?\n",
    "           # (0, 2, 2) 278.04421109575054 i tried giving this but it is not satisfying as visually i doest looks so accurate but based on AIC its ok so i tried giving (9, 2, 0) my time lags was actually 9 and moving average 0 "
   ]
  },
  {
   "cell_type": "code",
   "execution_count": null,
   "id": "f2b63f1d",
   "metadata": {},
   "outputs": [],
   "source": []
  },
  {
   "cell_type": "code",
   "execution_count": null,
   "id": "277746a6",
   "metadata": {},
   "outputs": [],
   "source": []
  }
 ],
 "metadata": {
  "kernelspec": {
   "display_name": "Python 3 (ipykernel)",
   "language": "python",
   "name": "python3"
  },
  "language_info": {
   "codemirror_mode": {
    "name": "ipython",
    "version": 3
   },
   "file_extension": ".py",
   "mimetype": "text/x-python",
   "name": "python",
   "nbconvert_exporter": "python",
   "pygments_lexer": "ipython3",
   "version": "3.9.7"
  }
 },
 "nbformat": 4,
 "nbformat_minor": 5
}
